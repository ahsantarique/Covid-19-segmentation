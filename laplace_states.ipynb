{
 "cells": [
  {
   "cell_type": "code",
   "execution_count": 5,
   "metadata": {},
   "outputs": [],
   "source": [
    "import networkx as nx\n",
    "import pandas as pd\n",
    "import sys\n",
    "from scipy.io import savemat"
   ]
  },
  {
   "cell_type": "code",
   "execution_count": 6,
   "metadata": {},
   "outputs": [],
   "source": [
    "# fileName = input()#'data/Harvey_60min_sample.csv';\n",
    "# adjlist = input()#'data/Harvey.adjlist';\n",
    "# savefile= input() #'data/Harvey_laplace.mat'"
   ]
  },
  {
   "cell_type": "code",
   "execution_count": 7,
   "metadata": {},
   "outputs": [],
   "source": [
    "path = ''\n",
    "fileName = path + 'covid-19-dataset/processed-data/states/final-us-state-cases.csv'\n",
    "adjlist = path + 'covid-19-dataset/processed-data/states/us-adj.csv'\n",
    "savefile= path + 'covid-19-dataset/processed-data/states/states_laplace.mat'"
   ]
  },
  {
   "cell_type": "code",
   "execution_count": 8,
   "metadata": {},
   "outputs": [
    {
     "name": "stdout",
     "output_type": "stream",
     "text": [
      "  (1, 1)\t4\n",
      "  (1, 9)\t-1\n",
      "  (1, 10)\t-1\n",
      "  (1, 25)\t-1\n",
      "  (1, 42)\t-1\n",
      "  (2, 2)\t6\n",
      "  (2, 18)\t-1\n",
      "  (2, 24)\t-1\n",
      "  (2, 25)\t-1\n",
      "  (2, 36)\t-1\n",
      "  (2, 42)\t-1\n",
      "  (2, 43)\t-1\n",
      "  (3, 3)\t5\n",
      "  (3, 4)\t-1\n",
      "  (3, 5)\t-1\n",
      "  (3, 32)\t-1\n",
      "  (3, 33)\t-1\n",
      "  (3, 44)\t-1\n",
      "  (4, 3)\t-1\n",
      "  (4, 4)\t3\n",
      "  (4, 33)\t-1\n",
      "  (4, 37)\t-1\n",
      "  (5, 3)\t-1\n",
      "  (5, 5)\t7\n",
      "  (5, 16)\t-1\n",
      "  :\t:\n",
      "  (46, 19)\t-1\n",
      "  (46, 30)\t-1\n",
      "  (46, 34)\t-1\n",
      "  (46, 46)\t3\n",
      "  (47, 13)\t-1\n",
      "  (47, 37)\t-1\n",
      "  (47, 47)\t2\n",
      "  (48, 12)\t-1\n",
      "  (48, 14)\t-1\n",
      "  (48, 22)\t-1\n",
      "  (48, 23)\t-1\n",
      "  (48, 48)\t4\n",
      "  (49, 17)\t-1\n",
      "  (49, 20)\t-1\n",
      "  (49, 35)\t-1\n",
      "  (49, 38)\t-1\n",
      "  (49, 45)\t-1\n",
      "  (49, 49)\t5\n",
      "  (50, 5)\t-1\n",
      "  (50, 13)\t-1\n",
      "  (50, 26)\t-1\n",
      "  (50, 29)\t-1\n",
      "  (50, 41)\t-1\n",
      "  (50, 44)\t-1\n",
      "  (50, 50)\t6\n"
     ]
    }
   ],
   "source": [
    "data = pd.read_csv(fileName)\n",
    "states = list(data.columns.values)\n",
    "#print(len(counties))\n",
    "G = nx.read_adjlist(adjlist,delimiter=',')\n",
    "L = nx.laplacian_matrix(G,states)\n",
    "print(L)\n",
    "savemat(savefile,{'L':L})"
   ]
  },
  {
   "cell_type": "code",
   "execution_count": null,
   "metadata": {},
   "outputs": [],
   "source": []
  }
 ],
 "metadata": {
  "kernelspec": {
   "display_name": "Python 3",
   "language": "python",
   "name": "python3"
  },
  "language_info": {
   "codemirror_mode": {
    "name": "ipython",
    "version": 3
   },
   "file_extension": ".py",
   "mimetype": "text/x-python",
   "name": "python",
   "nbconvert_exporter": "python",
   "pygments_lexer": "ipython3",
   "version": "3.7.3"
  }
 },
 "nbformat": 4,
 "nbformat_minor": 4
}
